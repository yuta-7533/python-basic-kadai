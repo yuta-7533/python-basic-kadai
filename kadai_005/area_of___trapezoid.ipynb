{
  "nbformat": 4,
  "nbformat_minor": 0,
  "metadata": {
    "colab": {
      "provenance": []
    },
    "kernelspec": {
      "name": "python3",
      "display_name": "Python 3"
    },
    "language_info": {
      "name": "python"
    }
  },
  "cells": [
    {
      "cell_type": "code",
      "source": [
        "a=0\n",
        "b=0\n",
        "h=0\n",
        "area=0\n",
        "\n",
        "while a<=0:\n",
        "  print(\"上辺を入力してください。(cm)\")\n",
        "  a=int(input())\n",
        "\n",
        "while b<=0:\n",
        "  print(\"下辺を入力してください。(cm)\")\n",
        "  b=int(input())\n",
        "\n",
        "while h<=0:\n",
        "  print(\"高さを入力してください。(cm)\")\n",
        "  h=int(input())\n",
        "\n",
        "area=(a+b)*h/2\n",
        "\n",
        "print('-----------------')\n",
        "print(f\"上辺:{a}cm\")\n",
        "print(f\"下辺:{b}cm\")\n",
        "print(f\"高さ:{h}cm\")\n",
        "print(f\"面積は{area}cm2です\")"
      ],
      "metadata": {
        "colab": {
          "base_uri": "https://localhost:8080/"
        },
        "id": "rzKYlrXWkiBX",
        "outputId": "9680b895-309b-4525-b7e5-197829101993"
      },
      "execution_count": 8,
      "outputs": [
        {
          "output_type": "stream",
          "name": "stdout",
          "text": [
            "上辺を入力してください。(cm)\n",
            "0\n",
            "上辺を入力してください。(cm)\n",
            "0\n",
            "上辺を入力してください。(cm)\n",
            "2\n",
            "下辺を入力してください。(cm)\n",
            "0\n",
            "下辺を入力してください。(cm)\n",
            "0\n",
            "下辺を入力してください。(cm)\n",
            "6\n",
            "高さを入力してください。(cm)\n",
            "0\n",
            "高さを入力してください。(cm)\n",
            "0\n",
            "高さを入力してください。(cm)\n",
            "9\n",
            "-----------------\n",
            "上辺:2cm\n",
            "下辺:6cm\n",
            "高さ:9cm\n",
            "面積は36.0cm2です\n"
          ]
        }
      ]
    }
  ]
}